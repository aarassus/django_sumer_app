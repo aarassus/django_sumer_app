{
 "cells": [
  {
   "cell_type": "markdown",
   "metadata": {
    "colab_type": "text",
    "id": "Vy_pqF_RNBZB"
   },
   "source": [
    "# Import NLP Model from HuggingFace"
   ]
  },
  {
   "cell_type": "code",
   "execution_count": 2,
   "metadata": {
    "colab": {},
    "colab_type": "code",
    "id": "ZyxpnrkgM3F2"
   },
   "outputs": [],
   "source": [
    "import transformers\n",
    "from transformers import WEIGHTS_NAME, CONFIG_NAME, AutoTokenizer, AutoModelWithLMHead, pipeline, T5Tokenizer, T5Model\n",
    "import torch\n",
    "import os\n",
    "my_dir = r'C:/Users/aaras/Desktop/django_sumer_app/web/static/model/camembert-base'\n"
   ]
  },
  {
   "cell_type": "code",
   "execution_count": 12,
   "metadata": {
    "colab": {},
    "colab_type": "code",
    "id": "Oo_ZmAvaM4tg"
   },
   "outputs": [],
   "source": [
    "from transformers import CamembertModel, CamembertTokenizer, AutoModelWithLMHead, AutoTokenizer\n",
    "\n",
    "tokenizer = AutoTokenizer.from_pretrained(\"camembert-base\")\n",
    "model = AutoModelWithLMHead.from_pretrained(\"camembert-base\")"
   ]
  },
  {
   "cell_type": "code",
   "execution_count": 13,
   "metadata": {
    "colab": {},
    "colab_type": "code",
    "id": "1sp_5bgONOte"
   },
   "outputs": [
    {
     "data": {
      "text/plain": [
       "('C:/Users/aaras/Desktop/django_sumer_app/web/static/model/camembert-base\\\\sentencepiece.bpe.model',\n",
       " 'C:/Users/aaras/Desktop/django_sumer_app/web/static/model/camembert-base\\\\special_tokens_map.json',\n",
       " 'C:/Users/aaras/Desktop/django_sumer_app/web/static/model/camembert-base\\\\added_tokens.json')"
      ]
     },
     "execution_count": 13,
     "metadata": {},
     "output_type": "execute_result"
    }
   ],
   "source": [
    "my_dir = r'C:/Users/aaras/Desktop/django_sumer_app/web/static/model/camembert-base'\n",
    "\n",
    "model_to_save = model.module if hasattr(model, 'module') else model\n",
    "\n",
    "# If we save using the predefined names, we can load using `from_pretrained`\n",
    "output_model_file = os.path.join(my_dir, WEIGHTS_NAME)\n",
    "output_config_file = os.path.join(my_dir, CONFIG_NAME)\n",
    "\n",
    "torch.save(model_to_save.state_dict(), output_model_file)\n",
    "model_to_save.config.to_json_file(output_config_file)\n",
    "tokenizer.save_pretrained(my_dir)"
   ]
  },
  {
   "cell_type": "markdown",
   "metadata": {
    "colab_type": "text",
    "id": "ZMNJ4TwwOKxX"
   },
   "source": [
    "## Import model sauvegardé"
   ]
  },
  {
   "cell_type": "code",
   "execution_count": 14,
   "metadata": {
    "colab": {},
    "colab_type": "code",
    "id": "lASufjGwOKEc"
   },
   "outputs": [],
   "source": [
    "tokenizer = AutoTokenizer.from_pretrained(my_dir)\n",
    "model = AutoModelWithLMHead.from_pretrained(my_dir) "
   ]
  },
  {
   "cell_type": "markdown",
   "metadata": {
    "colab_type": "text",
    "id": "CYi09FUFORzY"
   },
   "source": [
    "Article à résumer\n"
   ]
  },
  {
   "cell_type": "code",
   "execution_count": 5,
   "metadata": {
    "colab": {},
    "colab_type": "code",
    "id": "ECuk-Wf4OREr"
   },
   "outputs": [],
   "source": [
    "article = \"\"\"\n",
    "La pandémie due au coronavirus a fait au moins 283 978 morts dans le monde depuis son apparition en décembre en Chine, selon un bilan établi par l’Agence France-presse (AFP) à partir de sources officielles lundi 11 mai à 21 heures (heure de Paris).\n",
    "\n",
    "Lire aussi  Coronavirus en direct : dans les transports d’Ile-de-France, « l’offre a été renforcée pour que ça se passe bien »\n",
    "Plus de 4 148 350 cas d’infection ont été officiellement diagnostiqués dans 195 pays et territoires depuis le début de l’épidémie. Ce nombre de cas diagnostiqués ne reflète toutefois qu’une fraction du nombre réel de contaminations, un grand nombre de pays ne testant que les cas nécessitant une prise en charge hospitalière. Parmi ces cas, au moins 1 396 200 sont aujourd’hui considérés comme guéris.\n",
    "\n",
    "Pays le plus touché tant en nombre de morts que de cas, les Etats-Unis déploraient lundi plus de 80 000 décès. Suivent le Royaume-Uni avec 32 065 morts pour 223 060 cas, l’Italie avec 30 739 morts (219 814 cas) et l’Espagne avec 26 744 morts (227 436 cas).\n",
    "\n",
    "De son côté, la Chine a fait état mardi d’un seul nouveau cas de contamination au Covid-19, d’origine importée, un reflux dans la contagion après un rebond d’une trentaine de cas enregistrés en deux jours.\n",
    "\"\"\""
   ]
  },
  {
   "cell_type": "markdown",
   "metadata": {
    "colab_type": "text",
    "id": "Ugw3NJmQOvir"
   },
   "source": [
    "Summarizer"
   ]
  },
  {
   "cell_type": "code",
   "execution_count": 16,
   "metadata": {
    "colab": {},
    "colab_type": "code",
    "id": "H9KoEowHOUYi"
   },
   "outputs": [
    {
     "data": {
      "text/plain": [
       "[{'summary_text': 'La pandémie due au coronavirus a fait au moins 283 978 morts dans le monde depuis son apparition en décembre en Chine, selon un bilan établi par l’Agence France-presse (AFP) à partir de sources officielles lundi 11 mai à 21 heures (heure de Paris). Lire aussi Coronavirus en direct : dans les transports d’Ile-de-France, « l’offre a été renforcée pour que ça se passe bien » Plus de 4 148 350 cas d’infection ont été officiellement diagnostiqués dans 195 pays et territoires depuis le début de l’épidémie. Ce nombre de cas diagnostiqués ne reflète toutefois qu’une fraction du nombre réel de contaminations, un grand nombre de pays ne testant que les cas nécessitant une prise en charge hospitalière. Parmi ces cas, au moins 1 396 200 sont aujourd’hui considérés comme guéris. Pays le plus touché tant en nombre de morts que de cas, les Etats-Unis déploraient lundi plus de 80 000 décès. Suivent le Royaume-Uni avec 32 065 morts pour 223 060 cas, l’Italie avec 30 739 morts (219 814 cas) et l’Espagne avec 26 744 morts (227 436 cas). De son côté, la Chine a fait état mardi d’un seul nouveau cas de contamination au Covid-19, d’origine importée, un reflux dans la contagion après un rebond d’une trentaine de cas enregistrés en deux jours.'}]"
      ]
     },
     "execution_count": 16,
     "metadata": {},
     "output_type": "execute_result"
    }
   ],
   "source": [
    "summarizer = pipeline(\"summarization\", model =model,tokenizer= tokenizer)\n",
    "summarizer(article, min_length=5, max_length=20)"
   ]
  },
  {
   "cell_type": "markdown",
   "metadata": {},
   "source": [
    "## Extractive-bert-summarizer"
   ]
  },
  {
   "cell_type": "code",
   "execution_count": 1,
   "metadata": {},
   "outputs": [],
   "source": [
    "from transformers import CamembertModel, CamembertTokenizer, AutoConfig, AutoTokenizer, AutoModel\n",
    "import torch\n",
    "my_dir = r'C:/Users/aaras/Desktop/django_sumer_app/web/static/model/camembert-base'\n",
    "\n",
    "# Load model, model config and tokenizer via Transformers\n",
    "custom_config = AutoConfig.from_pretrained(my_dir)\n",
    "custom_config.output_hidden_states=True\n",
    "custom_tokenizer = AutoTokenizer.from_pretrained(my_dir)\n",
    "custom_model = AutoModel.from_pretrained(my_dir, config=custom_config)"
   ]
  },
  {
   "cell_type": "code",
   "execution_count": 3,
   "metadata": {},
   "outputs": [],
   "source": [
    "from summarizer import Summarizer"
   ]
  },
  {
   "cell_type": "code",
   "execution_count": 6,
   "metadata": {},
   "outputs": [
    {
     "data": {
      "text/plain": [
       "'La pandémie due au coronavirus a fait au moins 283 978 morts dans le monde depuis son apparition en décembre en Chine, selon un bilan établi par l’Agence France-presse (AFP) à partir de sources officielles lundi 11 mai à 21 heures (heure de Paris). Lire aussi  Coronavirus en direct : dans les transports d’Ile-de-France, « l’offre a été renforcée pour que ça se passe bien »\\nPlus de 4 148 350 cas d’infection ont été officiellement diagnostiqués dans 195 pays et territoires depuis le début de l’épidémie.'"
      ]
     },
     "execution_count": 6,
     "metadata": {},
     "output_type": "execute_result"
    }
   ],
   "source": [
    "model =Summarizer(custom_model=custom_model, custom_tokenizer=custom_tokenizer)\n",
    "result = model(article)\n",
    "full = \"\".join(result)\n",
    "full"
   ]
  }
 ],
 "metadata": {
  "colab": {
   "name": "Import NLP Model from HuggingFace.ipynb",
   "provenance": []
  },
  "kernelspec": {
   "display_name": "Python 3",
   "language": "python",
   "name": "python3"
  },
  "language_info": {
   "codemirror_mode": {
    "name": "ipython",
    "version": 3
   },
   "file_extension": ".py",
   "mimetype": "text/x-python",
   "name": "python",
   "nbconvert_exporter": "python",
   "pygments_lexer": "ipython3",
   "version": "3.7.4"
  }
 },
 "nbformat": 4,
 "nbformat_minor": 1
}
